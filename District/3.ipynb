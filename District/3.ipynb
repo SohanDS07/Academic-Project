{
 "cells": [
  {
   "cell_type": "code",
   "execution_count": 1,
   "id": "cac48f4d",
   "metadata": {},
   "outputs": [],
   "source": [
    "import pandas as pd"
   ]
  },
  {
   "cell_type": "code",
   "execution_count": null,
   "id": "07865864",
   "metadata": {},
   "outputs": [],
   "source": []
  },
  {
   "cell_type": "code",
   "execution_count": 2,
   "id": "362a14f1",
   "metadata": {},
   "outputs": [
    {
     "name": "stdout",
     "output_type": "stream",
     "text": [
      "         State/UT       District  Year  Murder  Rape  \\\n",
      "0  ANDHRA PRADESH       ADILABAD  2001     1.0   0.0   \n",
      "1  ANDHRA PRADESH      ANANTAPUR  2001     1.0  12.0   \n",
      "2  ANDHRA PRADESH       CHITTOOR  2001     6.0   0.0   \n",
      "3  ANDHRA PRADESH       CUDDAPAH  2001     2.0   0.0   \n",
      "4  ANDHRA PRADESH  EAST GODAVARI  2001     9.0   0.0   \n",
      "\n",
      "   Kidnapping and Abduction  Foeticide  Abetment of suicide  \\\n",
      "0                       0.0        0.0                  0.0   \n",
      "1                      29.0        0.0                  6.0   \n",
      "2                       0.0        0.0                  0.0   \n",
      "3                       0.0        0.0                  0.0   \n",
      "4                       0.0        0.0                  0.0   \n",
      "\n",
      "   Exposure and abandonment  Procuration of minor girls  \\\n",
      "0                       0.0                         0.0   \n",
      "1                       0.0                         0.0   \n",
      "2                       0.0                         0.0   \n",
      "3                       0.0                         0.0   \n",
      "4                       0.0                         0.0   \n",
      "\n",
      "   Buying of girls for prostitution  Selling of girls for prostitution  \\\n",
      "0                               0.0                                0.0   \n",
      "1                               0.0                                0.0   \n",
      "2                               0.0                                0.0   \n",
      "3                               0.0                                0.0   \n",
      "4                               0.0                                0.0   \n",
      "\n",
      "   Prohibition of child marriage act  Other Crimes  Total  Other murder  \n",
      "0                                0.0           0.0      0           0.0  \n",
      "1                                0.0           0.0     66           0.0  \n",
      "2                                0.0           0.0      0           0.0  \n",
      "3                                0.0           0.0      0           0.0  \n",
      "4                                0.0           0.0      0           0.0  \n"
     ]
    }
   ],
   "source": [
    "import pandas as pd\n",
    "\n",
    "# Load the datasets\n",
    "df = pd.read_csv('03_District_wise_crimes_committed_against_children_2013.csv')\n",
    "df1 = pd.read_csv('03_District_wise_crimes_committed_against_children_2001_2012.csv')\n",
    "\n",
    "# Remove rows where 'District' is 'TOTAL'\n",
    "df = df[df['DISTRICT'] != 'TOTAL']\n",
    "df1 = df1[df1['DISTRICT'] != 'TOTAL']\n",
    "\n",
    "# Standardize column names\n",
    "df.rename(columns={'STATE/UT': 'State/UT', 'DISTRICT': 'District'}, inplace=True)\n",
    "df1.rename(columns={'STATE/UT': 'State/UT', 'DISTRICT': 'District'}, inplace=True)\n",
    "\n",
    "# Combine 'Murder' and 'Infanticid' into 'Murder' in df1\n",
    "df1['Murder'] = df['Other murder'] + df['Infanticid']\n",
    "\n",
    "# Drop the now redundant 'Infanticid' column\n",
    "df.drop(columns=['Infanticid'], inplace=True)\n",
    "\n",
    "# Concatenate the datasets\n",
    "combined_df = pd.concat([df1, df], ignore_index=True, sort=False)\n",
    "\n",
    "# Handle missing values (example: fill with 0 or appropriate value)\n",
    "combined_df.fillna(0, inplace=True)\n",
    "\n",
    "# Save the combined dataset to a new CSV\n",
    "combined_df.to_csv('combined_crime_data_2001_2013.csv', index=False)\n",
    "\n",
    "print(combined_df.head())\n"
   ]
  },
  {
   "cell_type": "code",
   "execution_count": 3,
   "id": "28c4e4b8",
   "metadata": {},
   "outputs": [
    {
     "data": {
      "text/plain": [
       "Index(['State/UT', 'District', 'Year', 'Murder', 'Rape',\n",
       "       'Kidnapping and Abduction', 'Foeticide', 'Abetment of suicide',\n",
       "       'Exposure and abandonment', 'Procuration of minor girls',\n",
       "       'Buying of girls for prostitution', 'Selling of girls for prostitution',\n",
       "       'Prohibition of child marriage act', 'Other Crimes', 'Total'],\n",
       "      dtype='object')"
      ]
     },
     "execution_count": 3,
     "metadata": {},
     "output_type": "execute_result"
    }
   ],
   "source": [
    "df1.columns"
   ]
  },
  {
   "cell_type": "code",
   "execution_count": 4,
   "id": "deb12729",
   "metadata": {},
   "outputs": [
    {
     "data": {
      "text/plain": [
       "Index(['State/UT', 'District', 'Year', 'Other murder', 'Rape',\n",
       "       'Kidnapping and Abduction', 'Foeticide', 'Abetment of suicide',\n",
       "       'Exposure and abandonment', 'Procuration of minor girls',\n",
       "       'Buying of girls for prostitution', 'Selling of girls for prostitution',\n",
       "       'Prohibition of child marriage act', 'Other Crimes', 'Total'],\n",
       "      dtype='object')"
      ]
     },
     "execution_count": 4,
     "metadata": {},
     "output_type": "execute_result"
    }
   ],
   "source": [
    "df.columns"
   ]
  },
  {
   "cell_type": "code",
   "execution_count": 5,
   "id": "b3274e93",
   "metadata": {},
   "outputs": [
    {
     "name": "stdout",
     "output_type": "stream",
     "text": [
      "<class 'pandas.core.frame.DataFrame'>\n",
      "Int64Index: 8603 entries, 0 to 9013\n",
      "Data columns (total 15 columns):\n",
      " #   Column                             Non-Null Count  Dtype  \n",
      "---  ------                             --------------  -----  \n",
      " 0   State/UT                           8603 non-null   object \n",
      " 1   District                           8603 non-null   object \n",
      " 2   Year                               8603 non-null   int64  \n",
      " 3   Murder                             754 non-null    float64\n",
      " 4   Rape                               8592 non-null   float64\n",
      " 5   Kidnapping and Abduction           8592 non-null   float64\n",
      " 6   Foeticide                          8592 non-null   float64\n",
      " 7   Abetment of suicide                8592 non-null   float64\n",
      " 8   Exposure and abandonment           8592 non-null   float64\n",
      " 9   Procuration of minor girls         8592 non-null   float64\n",
      " 10  Buying of girls for prostitution   8592 non-null   float64\n",
      " 11  Selling of girls for prostitution  8592 non-null   float64\n",
      " 12  Prohibition of child marriage act  8592 non-null   float64\n",
      " 13  Other Crimes                       8592 non-null   float64\n",
      " 14  Total                              8603 non-null   int64  \n",
      "dtypes: float64(11), int64(2), object(2)\n",
      "memory usage: 1.1+ MB\n"
     ]
    }
   ],
   "source": [
    "df1.info()"
   ]
  },
  {
   "cell_type": "code",
   "execution_count": 8,
   "id": "ae16f3ae",
   "metadata": {},
   "outputs": [
    {
     "name": "stdout",
     "output_type": "stream",
     "text": [
      "<class 'pandas.core.frame.DataFrame'>\n",
      "RangeIndex: 9391 entries, 0 to 9390\n",
      "Data columns (total 16 columns):\n",
      " #   Column                             Non-Null Count  Dtype  \n",
      "---  ------                             --------------  -----  \n",
      " 0   State/UT                           9391 non-null   object \n",
      " 1   District                           9391 non-null   object \n",
      " 2   Year                               9391 non-null   int64  \n",
      " 3   Murder                             9391 non-null   float64\n",
      " 4   Rape                               9391 non-null   float64\n",
      " 5   Kidnapping and Abduction           9391 non-null   float64\n",
      " 6   Foeticide                          9391 non-null   float64\n",
      " 7   Abetment of suicide                9391 non-null   float64\n",
      " 8   Exposure and abandonment           9391 non-null   float64\n",
      " 9   Procuration of minor girls         9391 non-null   float64\n",
      " 10  Buying of girls for prostitution   9391 non-null   float64\n",
      " 11  Selling of girls for prostitution  9391 non-null   float64\n",
      " 12  Prohibition of child marriage act  9391 non-null   float64\n",
      " 13  Other Crimes                       9391 non-null   float64\n",
      " 14  Total                              9391 non-null   int64  \n",
      " 15  Other murder                       9391 non-null   float64\n",
      "dtypes: float64(12), int64(2), object(2)\n",
      "memory usage: 1.1+ MB\n"
     ]
    }
   ],
   "source": [
    "combined_df.info()"
   ]
  },
  {
   "cell_type": "code",
   "execution_count": 9,
   "id": "27cdd588",
   "metadata": {
    "scrolled": false
   },
   "outputs": [],
   "source": [
    "\n",
    "# Drop the 'Total' and 'Other murder' columns in place\n",
    "combined_df.drop(columns=['Total', 'Other murder'], inplace=True)\n"
   ]
  },
  {
   "cell_type": "code",
   "execution_count": null,
   "id": "308c587f",
   "metadata": {},
   "outputs": [],
   "source": []
  },
  {
   "cell_type": "code",
   "execution_count": 12,
   "id": "2bfa7ba9",
   "metadata": {},
   "outputs": [
    {
     "data": {
      "text/plain": [
       "array([2001, 2002, 2003, 2004, 2005, 2006, 2007, 2008, 2009, 2010, 2011,\n",
       "       2012, 2013], dtype=int64)"
      ]
     },
     "execution_count": 12,
     "metadata": {},
     "output_type": "execute_result"
    }
   ],
   "source": [
    "combined_df['Year'].unique()"
   ]
  },
  {
   "cell_type": "code",
   "execution_count": 13,
   "id": "4560ceac",
   "metadata": {},
   "outputs": [],
   "source": [
    "combined_df.to_csv('data3.csv', index=False)"
   ]
  },
  {
   "cell_type": "code",
   "execution_count": null,
   "id": "387072c5",
   "metadata": {},
   "outputs": [],
   "source": []
  },
  {
   "cell_type": "code",
   "execution_count": null,
   "id": "30ef9cfd",
   "metadata": {},
   "outputs": [],
   "source": []
  },
  {
   "cell_type": "code",
   "execution_count": null,
   "id": "f6b3395d",
   "metadata": {},
   "outputs": [],
   "source": []
  },
  {
   "cell_type": "code",
   "execution_count": null,
   "id": "4b94f6c1",
   "metadata": {},
   "outputs": [],
   "source": []
  },
  {
   "cell_type": "code",
   "execution_count": null,
   "id": "77dc4a78",
   "metadata": {},
   "outputs": [],
   "source": []
  },
  {
   "cell_type": "code",
   "execution_count": null,
   "id": "b7f572e8",
   "metadata": {},
   "outputs": [],
   "source": []
  },
  {
   "cell_type": "code",
   "execution_count": null,
   "id": "5fc31950",
   "metadata": {},
   "outputs": [],
   "source": []
  },
  {
   "cell_type": "code",
   "execution_count": null,
   "id": "ad62c9ac",
   "metadata": {},
   "outputs": [],
   "source": []
  }
 ],
 "metadata": {
  "kernelspec": {
   "display_name": "Python 3 (ipykernel)",
   "language": "python",
   "name": "python3"
  },
  "language_info": {
   "codemirror_mode": {
    "name": "ipython",
    "version": 3
   },
   "file_extension": ".py",
   "mimetype": "text/x-python",
   "name": "python",
   "nbconvert_exporter": "python",
   "pygments_lexer": "ipython3",
   "version": "3.10.9"
  }
 },
 "nbformat": 4,
 "nbformat_minor": 5
}
